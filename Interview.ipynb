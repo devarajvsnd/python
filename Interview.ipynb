{
 "cells": [
  {
   "cell_type": "markdown",
   "id": "8a33a0b7",
   "metadata": {},
   "source": [
    "### 1.Fibonacci"
   ]
  },
  {
   "cell_type": "code",
   "execution_count": 18,
   "id": "8761d9a8",
   "metadata": {},
   "outputs": [],
   "source": [
    "def fib(n):\n",
    "    t=[0,1]\n",
    "    ls=[]\n",
    "    \n",
    "    for i in range(n):\n",
    "        if n<2:\n",
    "            ls.append(t[i])\n",
    "        elif i<2:\n",
    "            ls.append(t[i])\n",
    "        else: \n",
    "            ls.append(ls[i-1]+ls[i-2])\n",
    "    print(ls)"
   ]
  },
  {
   "cell_type": "code",
   "execution_count": 23,
   "id": "449f2209",
   "metadata": {},
   "outputs": [
    {
     "name": "stdout",
     "output_type": "stream",
     "text": [
      "[0, 1, 1, 2, 3, 5, 8, 13, 21, 34]\n"
     ]
    }
   ],
   "source": [
    "fib(10)"
   ]
  },
  {
   "cell_type": "markdown",
   "id": "a9d05201",
   "metadata": {},
   "source": [
    "### 2.Print number of substrings starting with vowels and print them"
   ]
  },
  {
   "cell_type": "code",
   "execution_count": 131,
   "id": "afc8cbe1",
   "metadata": {},
   "outputs": [
    {
     "name": "stdout",
     "output_type": "stream",
     "text": [
      "Total count: 6\n",
      "Substrings: ['a', 'ap', 'app', 'appl', 'apple', 'e']\n"
     ]
    }
   ],
   "source": [
    "def subs_count(txt):\n",
    "    vow = 'aeiouAEIOU'\n",
    "    count = 0\n",
    "    substrings = []  # To store the substrings\n",
    "    \n",
    "    for i, char in enumerate(txt):\n",
    "        if char in vow:\n",
    "            count += len(txt) - i\n",
    "            for j in range(i, len(txt)):  # Extract substrings starting at index i\n",
    "                substrings.append(txt[i:j+1])  \n",
    "    print(\"Total count:\", count)\n",
    "    print(\"Substrings:\", substrings)\n",
    "\n",
    "# Example usage\n",
    "subs_count(\"apple\")"
   ]
  },
  {
   "cell_type": "markdown",
   "id": "9d84e092",
   "metadata": {},
   "source": [
    "### 3.First non repeating character in a string"
   ]
  },
  {
   "cell_type": "code",
   "execution_count": 155,
   "id": "c04d9100",
   "metadata": {},
   "outputs": [
    {
     "data": {
      "text/plain": [
       "('x', 5)"
      ]
     },
     "execution_count": 155,
     "metadata": {},
     "output_type": "execute_result"
    }
   ],
   "source": [
    "tt=\"netsexztosnetz\"\n",
    "def non_rep(txt):\n",
    "    d={}\n",
    "    for i in range(len(txt)):\n",
    "        if txt[i] not in d.keys():\n",
    "            d[txt[i]]=1\n",
    "        else:\n",
    "            d[txt[i]]+=1\n",
    "    c=0\n",
    "\n",
    "    #for key,value in d.items():\n",
    "     #   if(value==1):\n",
    "      #      print(key)\n",
    "       #     break\n",
    "            \n",
    "    \n",
    "    for j in range(len(txt)):\n",
    "        if(d[txt[j]]==1):\n",
    "            return txt[j],c\n",
    "        c=c+1\n",
    "        \n",
    "non_rep(tt)\n"
   ]
  },
  {
   "cell_type": "markdown",
   "id": "b04c0f2e",
   "metadata": {},
   "source": [
    "### 4.check if the two given words are anagram or not"
   ]
  },
  {
   "cell_type": "code",
   "execution_count": 21,
   "id": "8ce09115",
   "metadata": {},
   "outputs": [
    {
     "name": "stdout",
     "output_type": "stream",
     "text": [
      "ANAGRAM\n",
      "ANAGRAM\n"
     ]
    }
   ],
   "source": [
    "def anagram(txt1, txt2):\n",
    "    \n",
    "    if ''.join(sorted(txt1))==''.join(sorted(txt2)):\n",
    "        print(\"ANAGRAM\")\n",
    "    else:\n",
    "        print(\"NOT AN ANAGRAM\")\n",
    "l1=\"friendsi\"\n",
    "l2=\"friednsi\"\n",
    "anagram(l1,l2)\n",
    "\n",
    "# without using sort\n",
    "    \n",
    "def anagram_without_sort(txt1, txt2): \n",
    "    d1={}\n",
    "    d2={}\n",
    "    \n",
    "    for char in txt1:\n",
    "        if char in d1.keys():\n",
    "            d1[char]=d1.get(char,0)+1\n",
    "        \n",
    "    for char in txt2:\n",
    "        if char in d2.keys():\n",
    "            d2[char]=d1.get(char,0)+1  \n",
    "            \n",
    "    if d1==d2:\n",
    "        print(\"ANAGRAM\")\n",
    "    else:\n",
    "        print(\"NOT AN ANAGRAM\")\n",
    "        \n",
    "anagram_without_sort(l1,l2)"
   ]
  },
  {
   "cell_type": "markdown",
   "id": "ae27e2a0",
   "metadata": {},
   "source": [
    "### 3.Check prime or not "
   ]
  },
  {
   "cell_type": "code",
   "execution_count": 193,
   "id": "5cdaf443",
   "metadata": {},
   "outputs": [
    {
     "data": {
      "text/plain": [
       "False"
      ]
     },
     "execution_count": 193,
     "metadata": {},
     "output_type": "execute_result"
    }
   ],
   "source": [
    "def chk_prime(n):\n",
    "    \n",
    "    for i in range(2, int(n**(0.5)+1)):\n",
    "        if n%i == 0:\n",
    "            return False\n",
    "    return True\n",
    "\n",
    "chk_prime(6)"
   ]
  },
  {
   "cell_type": "markdown",
   "id": "7e5a975e",
   "metadata": {},
   "source": [
    "### 4.Extract all the numbers in the string and extract them as a list"
   ]
  },
  {
   "cell_type": "code",
   "execution_count": 200,
   "id": "e628c470",
   "metadata": {},
   "outputs": [
    {
     "name": "stdout",
     "output_type": "stream",
     "text": [
      "['50', '50', '27']\n"
     ]
    }
   ],
   "source": [
    "import re\n",
    "\n",
    "def extract_num(txt):\n",
    "    ls=[]\n",
    "    for i in txt.split():\n",
    "        if i.isdigit():\n",
    "        #if not i.isalpha():\n",
    "            ls.append(i)\n",
    "    print(ls)\n",
    "    \n",
    "t=\"I am 50 year 50 and hight is 27\"\n",
    "extract_num(t)"
   ]
  },
  {
   "cell_type": "markdown",
   "id": "6fcf6936",
   "metadata": {},
   "source": [
    "### 5. Find largest and smallest in a list"
   ]
  },
  {
   "cell_type": "code",
   "execution_count": 211,
   "id": "972301a3",
   "metadata": {},
   "outputs": [
    {
     "name": "stdout",
     "output_type": "stream",
     "text": [
      "Largest is 88 and smallest is 25\n"
     ]
    }
   ],
   "source": [
    "def small_and_large(ls):\n",
    "    large=max(ls)\n",
    "    small=min(ls)\n",
    "    \n",
    "    print(\"Largest is\", large, \"and smallest is\" ,small)\n",
    "    \n",
    "ls=[25,26,27,88]\n",
    "\n",
    "small_and_large(ls)"
   ]
  },
  {
   "cell_type": "markdown",
   "id": "3330f9d7",
   "metadata": {},
   "source": [
    "### 6. Print the number of times the letter occurred"
   ]
  },
  {
   "cell_type": "code",
   "execution_count": 54,
   "id": "ed68f38c",
   "metadata": {},
   "outputs": [
    {
     "name": "stdout",
     "output_type": "stream",
     "text": [
      "1a3v3b2a4b2a3c2d1f\n"
     ]
    }
   ],
   "source": [
    "#aaabbccd\n",
    "#3a2b2b1d\n",
    "\n",
    "def ntimes(txt):\n",
    "    \n",
    "    char1=txt[0]\n",
    "    output=\"\"\n",
    "    count=0\n",
    "    \n",
    "    for i in txt:\n",
    "        if i==char1:\n",
    "            count+=1\n",
    "        else:\n",
    "            output=output+str(count)+char1\n",
    "            count=1\n",
    "            char1=i\n",
    "            \n",
    "    output=output+str(count)+i\n",
    "    \n",
    "    print(output)\n",
    "ntimes(\"avvvbbbaabbbbaacccddf\")"
   ]
  },
  {
   "cell_type": "markdown",
   "id": "a5539704",
   "metadata": {},
   "source": [
    "### 7.Reverse alphabets but digits in same position"
   ]
  },
  {
   "cell_type": "code",
   "execution_count": 81,
   "id": "2ba159c2",
   "metadata": {},
   "outputs": [
    {
     "name": "stdout",
     "output_type": "stream",
     "text": [
      "si25em6an45ym\n"
     ]
    }
   ],
   "source": [
    "#my25name45is\n",
    "#si25eman45ym\n",
    "\n",
    "\n",
    "def reverse(txt):\n",
    "    output=''\n",
    "    \n",
    "    alphas=[char for char in txt[::-1] if char.isalpha()]\n",
    "    i=0\n",
    "    for char in txt:\n",
    "        if char.isalpha():\n",
    "            output+=alphas[i]\n",
    "            i+=1\n",
    "        else:\n",
    "            output+=char\n",
    "    print(output)\n",
    "        \n",
    "reverse(\"my25na6me45is\")   "
   ]
  },
  {
   "cell_type": "code",
   "execution_count": null,
   "id": "b334b545",
   "metadata": {},
   "outputs": [],
   "source": [
    "def anagram_without_sort(txt1, txt2):\n",
    "    \n",
    "    d1={}\n",
    "    d2={}\n",
    "    \n",
    "    for char in txt1:\n",
    "        if char in d1.keys:\n",
    "            d1[char]=get(char,0)"
   ]
  },
  {
   "cell_type": "code",
   "execution_count": 12,
   "id": "4e8a853e",
   "metadata": {},
   "outputs": [],
   "source": [
    "txt1=\"listen\"\n",
    "txt2=\"silent\"\n",
    "\n",
    "d1={}\n",
    "d2={}\n",
    "\n",
    "for char in txt1:\n",
    "    if char in d1.keys():\n",
    "        d1[char]=d1.get(char,0)+1\n",
    "    else:\n",
    "        d1[char]=1\n",
    "for char in txt2:\n",
    "    if char in d2.keys():\n",
    "        d2[char]=d1.get(char,0)+1\n",
    "    else:\n",
    "        d2[char]=1"
   ]
  },
  {
   "cell_type": "code",
   "execution_count": 13,
   "id": "344b5051",
   "metadata": {},
   "outputs": [
    {
     "data": {
      "text/plain": [
       "{'l': 1, 'i': 1, 's': 1, 't': 1, 'e': 1, 'n': 1}"
      ]
     },
     "execution_count": 13,
     "metadata": {},
     "output_type": "execute_result"
    }
   ],
   "source": [
    "d1"
   ]
  },
  {
   "cell_type": "code",
   "execution_count": 14,
   "id": "6bd91cb7",
   "metadata": {},
   "outputs": [
    {
     "data": {
      "text/plain": [
       "{'s': 1, 'i': 1, 'l': 1, 'e': 1, 'n': 1, 't': 1}"
      ]
     },
     "execution_count": 14,
     "metadata": {},
     "output_type": "execute_result"
    }
   ],
   "source": [
    "d2"
   ]
  },
  {
   "cell_type": "code",
   "execution_count": 15,
   "id": "2273486b",
   "metadata": {},
   "outputs": [
    {
     "data": {
      "text/plain": [
       "True"
      ]
     },
     "execution_count": 15,
     "metadata": {},
     "output_type": "execute_result"
    }
   ],
   "source": [
    "d1==d2"
   ]
  },
  {
   "cell_type": "code",
   "execution_count": null,
   "id": "f3a147ea",
   "metadata": {},
   "outputs": [],
   "source": []
  }
 ],
 "metadata": {
  "kernelspec": {
   "display_name": "Python 3",
   "language": "python",
   "name": "python3"
  },
  "language_info": {
   "codemirror_mode": {
    "name": "ipython",
    "version": 3
   },
   "file_extension": ".py",
   "mimetype": "text/x-python",
   "name": "python",
   "nbconvert_exporter": "python",
   "pygments_lexer": "ipython3",
   "version": "3.8.8"
  }
 },
 "nbformat": 4,
 "nbformat_minor": 5
}
